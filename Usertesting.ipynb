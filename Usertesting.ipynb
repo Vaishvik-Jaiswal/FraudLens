{
 "cells": [
  {
   "cell_type": "code",
   "execution_count": 1,
   "id": "6414ec3d-4ecd-4cdb-ba86-f0f41c8f463d",
   "metadata": {},
   "outputs": [
    {
     "name": "stdin",
     "output_type": "stream",
     "text": [
      "Enter transaction amount:  2350\n",
      "Enter time step (0-49):  30\n"
     ]
    },
    {
     "name": "stdout",
     "output_type": "stream",
     "text": [
      "\n",
      "🧾 Prediction: Licit (Legit)\n",
      "🔍 Confidence: 100.00%\n"
     ]
    }
   ],
   "source": [
    "import torch\n",
    "import numpy as np\n",
    "from torch_geometric.data import Data\n",
    "from torch_geometric.nn import GCNConv\n",
    "\n",
    "# === 1. Define your GCN model architecture ===\n",
    "# Must match your training setup\n",
    "class GCN(torch.nn.Module):\n",
    "    def __init__(self, in_channels, hidden_channels, out_channels):\n",
    "        super().__init__()\n",
    "        self.conv1 = GCNConv(in_channels, hidden_channels)\n",
    "        self.conv2 = GCNConv(hidden_channels, out_channels)\n",
    "\n",
    "    def forward(self, x, edge_index):\n",
    "        x = self.conv1(x, edge_index)\n",
    "        x = torch.relu(x)\n",
    "        x = self.conv2(x, edge_index)\n",
    "        return x\n",
    "\n",
    "# === 2. Initialize and load trained model ===\n",
    "model = GCN(in_channels=166, hidden_channels=64, out_channels=2)\n",
    "checkpoint = torch.load(\"gnn_elliptic_model.pth\")\n",
    "\n",
    "model.conv1.load_state_dict(checkpoint[\"conv1\"])\n",
    "model.conv2.load_state_dict(checkpoint[\"conv2\"])\n",
    "model.eval()\n",
    "\n",
    "# === 3. Load mean vector for filling features ===\n",
    "mean_vector = np.load(\"mean_vector.npy\")  # shape = (166,)\n",
    "\n",
    "# === 4. Map user input to full feature vector ===\n",
    "def map_user_input_to_features(amount, time_step):\n",
    "    features = mean_vector.copy()\n",
    "    features[0] = amount       # Suppose feature 0 is amount\n",
    "    features[1] = time_step    # Suppose feature 1 is timestep\n",
    "    return features.tolist()\n",
    "\n",
    "# === 5. Predict user transaction ===\n",
    "def predict_user_transaction(amount, time_step):\n",
    "    features = map_user_input_to_features(amount, time_step)\n",
    "    x = torch.tensor([features], dtype=torch.float)\n",
    "\n",
    "    # No edges — single node prediction\n",
    "    edge_index = torch.empty((2, 0), dtype=torch.long)\n",
    "\n",
    "    data = Data(x=x, edge_index=edge_index)\n",
    "\n",
    "    with torch.no_grad():\n",
    "        out = model(data.x, data.edge_index)\n",
    "        pred_class = out.argmax(dim=1).item()\n",
    "        confidence = torch.softmax(out, dim=1)[0][pred_class].item()\n",
    "\n",
    "    label_map = {0: \"Licit (Legit)\", 1: \"Illicit (Fraud)\"}\n",
    "    return label_map[pred_class], confidence\n",
    "\n",
    "# === 6. Example: Run prediction ===\n",
    "if __name__ == \"__main__\":\n",
    "    amount = float(input(\"Enter transaction amount: \"))\n",
    "    time_step = int(input(\"Enter time step (0-49): \"))\n",
    "\n",
    "    prediction, confidence = predict_user_transaction(amount, time_step)\n",
    "    print(f\"\\n🧾 Prediction: {prediction}\")\n",
    "    print(f\"🔍 Confidence: {confidence * 100:.2f}%\")"
   ]
  },
  {
   "cell_type": "code",
   "execution_count": null,
   "id": "e9e76d8f-68f1-4608-9a08-dd2ad70976bc",
   "metadata": {},
   "outputs": [],
   "source": []
  }
 ],
 "metadata": {
  "kernelspec": {
   "display_name": "Python 3 (ipykernel)",
   "language": "python",
   "name": "python3"
  },
  "language_info": {
   "codemirror_mode": {
    "name": "ipython",
    "version": 3
   },
   "file_extension": ".py",
   "mimetype": "text/x-python",
   "name": "python",
   "nbconvert_exporter": "python",
   "pygments_lexer": "ipython3",
   "version": "3.12.4"
  }
 },
 "nbformat": 4,
 "nbformat_minor": 5
}
